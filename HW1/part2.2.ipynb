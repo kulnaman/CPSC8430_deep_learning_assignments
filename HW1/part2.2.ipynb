{
 "cells": [
  {
   "cell_type": "code",
   "execution_count": 1,
   "metadata": {},
   "outputs": [],
   "source": [
    "import math \n",
    "\n",
    "import numpy as np\n",
    "from numpy import asarray\n",
    "import torch\n",
    "import torch.nn as nn\n",
    "import torch.optim as optim\n",
    "import torch.utils.data\n",
    "from tqdm import tqdm\n",
    "\n",
    "from sklearn.model_selection import train_test_split\n",
    "from torch.autograd import Variable\n",
    "import torchvision\n",
    "import matplotlib\n",
    "import matplotlib.pyplot as plt\n",
    "import pickle\n",
    "from sklearn.preprocessing import MinMaxScaler\n"
   ]
  },
  {
   "cell_type": "code",
   "execution_count": 2,
   "metadata": {},
   "outputs": [
    {
     "data": {
      "text/plain": [
       "device(type='cuda')"
      ]
     },
     "execution_count": 2,
     "metadata": {},
     "output_type": "execute_result"
    }
   ],
   "source": [
    "device = torch.device('cuda' if torch.cuda.is_available() else 'cpu')\n",
    "device"
   ]
  },
  {
   "cell_type": "code",
   "execution_count": 3,
   "metadata": {},
   "outputs": [],
   "source": [
    "x=np.linspace(0.1, 1.0, num=60000)\n",
    "function1=lambda x:(np.sin(5*math.pi*x))/(5*math.pi*x)\n",
    "y1=asarray([function1(e) for e in  x])\n",
    "def get_output():\n",
    "    return y1;"
   ]
  },
  {
   "cell_type": "code",
   "execution_count": 4,
   "metadata": {},
   "outputs": [],
   "source": [
    "def initMNIST(batch_size_train,batch_size_test):\n",
    "    train_loader = torch.utils.data.DataLoader(\n",
    "    torchvision.datasets.MNIST('./files/', train=True, download=True,\n",
    "                             transform=torchvision.transforms.Compose([\n",
    "                               torchvision.transforms.ToTensor(),\n",
    "                               torchvision.transforms.Normalize(\n",
    "                                 (0.1307,), (0.3081,))\n",
    "                             ])),\n",
    "    batch_size=batch_size_train, shuffle=True)\n",
    "\n",
    "    test_loader = torch.utils.data.DataLoader(\n",
    "    torchvision.datasets.MNIST('./files/', train=False, download=True,\n",
    "                             transform=torchvision.transforms.Compose([\n",
    "                               torchvision.transforms.ToTensor(),\n",
    "                               torchvision.transforms.Normalize(\n",
    "                                 (0.1307,), (0.3081,))\n",
    "                             ])),\n",
    "    batch_size=batch_size_test, shuffle=True)\n",
    "    return train_loader,test_loader"
   ]
  },
  {
   "cell_type": "code",
   "execution_count": 5,
   "metadata": {},
   "outputs": [],
   "source": [
    "def accuracy(preds, labels):\n",
    "    return (preds == labels).mean()"
   ]
  },
  {
   "cell_type": "code",
   "execution_count": 6,
   "metadata": {},
   "outputs": [],
   "source": [
    "def train(inputDataLoader,model,loss_function,optimizer,epochNumber,type): \n",
    "    model.train()\n",
    "    min_loss=math.inf;\n",
    "    loss_array=[]\n",
    "    grad_array=[]\n",
    "    for (inputs,label) in inputDataLoader:\n",
    "        grad_all=0\n",
    "\n",
    "        if(type==\"MNIST\"):\n",
    "            inputs = inputs.reshape(-1, 28*28).to(device)\n",
    "        else:\n",
    "            inputs=inputs.to(device)\n",
    "        label=label.to(device)\n",
    "        output=model.forward(inputs)\n",
    "        loss=loss_function(output,label)\n",
    "        optimizer.zero_grad()\n",
    "        loss.backward()\n",
    "        optimizer.step()\n",
    "        loss_array.append(loss.detach().cpu().numpy())\n",
    "        # measure accuracy and record loss\n",
    "        grad_array.append(calculate_grad_norm(model.parameters()))\n",
    "    return grad_array,loss_array"
   ]
  },
  {
   "cell_type": "code",
   "execution_count": 7,
   "metadata": {},
   "outputs": [],
   "source": [
    "def test(inputDataLoader,model,loss_function,optimizer,type):\n",
    "    model.eval()\n",
    "    output_result=[]\n",
    "    loss_result=[]\n",
    "    acccs=[]\n",
    "\n",
    "    with torch.no_grad():\n",
    "        for (inputs,label) in inputDataLoader:\n",
    "            if(type==\"MNIST\"):\n",
    "                inputs = inputs.reshape(-1, 28*28).to(device)\n",
    "            else:\n",
    "                inputs=inputs.to(device)\n",
    "            label=label.to(device)\n",
    "            output=model.forward(inputs)\n",
    "            loss=loss_function(output,label)\n",
    "            # measure accuracy and record loss\n"
   ]
  },
  {
   "cell_type": "code",
   "execution_count": 8,
   "metadata": {},
   "outputs": [],
   "source": [
    "def calculate_grad_norm(model_parameters):\n",
    "    grad_all=0\n",
    "    for p in model_parameters:\n",
    "        grad=0\n",
    "        if p.grad is not None:\n",
    "            grad=(p.grad.cpu().data.numpy()**2).sum()\n",
    "        grad_all+=grad\n",
    "    grad_norm=grad_all**0.5\n",
    "    return grad_norm"
   ]
  },
  {
   "cell_type": "code",
   "execution_count": 9,
   "metadata": {},
   "outputs": [],
   "source": [
    "def get_model(type):\n",
    "    if type==\"MNIST\":\n",
    "        return nn.Sequential(\n",
    "                    nn.Linear(in_features=784, out_features=600),\n",
    "                   # 600 nodes connects to hidden layer with 500 nodes\n",
    "                    nn.Linear(in_features=600, out_features=500) ,\n",
    "                   # 500 nodes connects to hidden layer with 250 nodes\n",
    "                    nn.Linear(in_features=500, out_features=250) ,\n",
    "                   # connection between the last hidden layer \n",
    "                   # and the output layer (with 10 nodes)\n",
    "                    nn.Linear(in_features=250, out_features=10) ,\n",
    "        )\n",
    "    elif type==\"function\":\n",
    "        return nn.Sequential(\n",
    "                    nn.Linear(1, 10),\n",
    "                    nn.ReLU(),\n",
    "                    nn.Linear(10, 18),\n",
    "                    nn.ReLU(),\n",
    "                    nn.Linear(18, 15),\n",
    "                    nn.ReLU(),\n",
    "                    nn.Linear(15, 6),\n",
    "                    nn.ReLU(),\n",
    "                    nn.Linear(6, 1),\n",
    "            )"
   ]
  },
  {
   "cell_type": "code",
   "execution_count": 10,
   "metadata": {},
   "outputs": [],
   "source": [
    "def train_function(epochs,type):\n",
    "    X_train, X_test, y_train, y_test = train_test_split(x,get_output(), test_size = 0.2, random_state = 42)\n",
    "    X_train=torch.FloatTensor(X_train).unsqueeze(1).to(device)\n",
    "    X_test=torch.FloatTensor(X_test).unsqueeze(1).to(device)\n",
    "    y_train=torch.FloatTensor(y_train).unsqueeze(1).to(device)\n",
    "    y_test=torch.FloatTensor(y_test).unsqueeze(1).to(device)\n",
    "    train_data = torch.utils.data.TensorDataset(X_train,y_train)\n",
    "    test_data = torch.utils.data.TensorDataset(X_test,y_test)\n",
    "    train_loader = torch.utils.data.DataLoader(train_data, batch_size = 64, shuffle = True)\n",
    "    test_loader = torch.utils.data.DataLoader(test_data, batch_size = 64, shuffle = True)\n",
    "    criterion=nn.MSELoss()\n",
    "    model=get_model(\"function\")\n",
    "    model.to(device)\n",
    "    optimizer=optim.Adam(model.parameters(),lr=0.0001, weight_decay=1e-5)\n",
    "    epoch_range=[*range(0,epochs,1)]\n",
    "    grad_all=[]\n",
    "    losses=[]\n",
    "    for epoch in range(0,epochs,1):\n",
    "        grad,loss=train(train_loader,model,criterion,optimizer,epoch,type)\n",
    "        test(test_loader,model,criterion,optimizer,type)\n",
    "        grad_all.append(grad)\n",
    "        losses.append(loss)\n",
    "    x_tensor = torch.FloatTensor(x).unsqueeze(1).to(device)\n",
    "    input = Variable(x_tensor).to(device).requires_grad_()\n",
    "    pred  = model(input).cpu().detach().numpy()\n",
    "    return grad_all,losses"
   ]
  },
  {
   "cell_type": "code",
   "execution_count": 11,
   "metadata": {
    "tags": []
   },
   "outputs": [],
   "source": [
    "def train_MNIST(epochs,type):\n",
    "    train_loader,test_loader=initMNIST(256,256)\n",
    "    criterion=nn.CrossEntropyLoss()\n",
    "    model=get_model(type)\n",
    "    model.to(device)\n",
    "    optimizer=optim.Adam(model.parameters(),lr=0.1e-2)\n",
    "    epoch_range=[*range(0,epochs,1)]\n",
    "    grad_all=[]\n",
    "    losses=[]\n",
    "    for epoch in tqdm(range(0,epochs,1)):\n",
    "        grad,loss=train(train_loader,model,criterion,optimizer,epoch,type)\n",
    "        test(test_loader,model,criterion,optimizer,type)\n",
    "        grad_all.extend(grad)\n",
    "        losses.extend(loss)\n",
    "    return grad_all,losses"
   ]
  },
  {
   "cell_type": "code",
   "execution_count": 12,
   "metadata": {},
   "outputs": [],
   "source": [
    "epochs=100"
   ]
  },
  {
   "cell_type": "code",
   "execution_count": 13,
   "metadata": {},
   "outputs": [
    {
     "name": "stderr",
     "output_type": "stream",
     "text": [
      "100%|██████████| 100/100 [16:46<00:00, 10.06s/it]\n"
     ]
    }
   ],
   "source": [
    "grad_norm_MNIST,loss_MNIST=train_MNIST(epochs,\"MNIST\")"
   ]
  },
  {
   "cell_type": "code",
   "execution_count": 14,
   "metadata": {},
   "outputs": [
    {
     "data": {
      "image/png": "[encoded data removed]",
      "text/plain": [
       "<Figure size 432x288 with 1 Axes>"
      ]
     },
     "metadata": {
      "needs_background": "light"
     },
     "output_type": "display_data"
    }
   ],
   "source": [
    "\n",
    "plt.figure()\n",
    "plt.title(\"Loss and Iteration for MNIST\")\n",
    "xlabel=\"Iteration\"\n",
    "ylabel=\"Loss\"\n",
    "a=list(range(0,len(grad_norm_MNIST),1))\n",
    "plt.xlabel(xlabel)\n",
    "plt.ylabel(ylabel)\n",
    "plt.plot(a,loss_MNIST)\n",
    "plt.savefig(\"LOSS_MNIST_2.2.png\")"
   ]
  },
  {
   "cell_type": "code",
   "execution_count": 16,
   "metadata": {},
   "outputs": [
    {
     "data": {
      "image/png": "[encoded data removed]",
      "text/plain": [
       "<Figure size 432x288 with 1 Axes>"
      ]
     },
     "metadata": {
      "needs_background": "light"
     },
     "output_type": "display_data"
    }
   ],
   "source": [
    "plt.figure()\n",
    "plt.title(\"Gradient Norm and Iteration for MNIST\")\n",
    "\n",
    "xlabel=\"Iteration\"\n",
    "ylabel=\"Grad Norm\"\n",
    "a=list(range(0,len(grad_norm_MNIST),1))\n",
    "plt.xlabel(xlabel)\n",
    "plt.ylabel(ylabel)\n",
    "plt.plot(a,grad_norm_MNIST)\n",
    "plt.savefig(\"grad_MNIST_func2.2.png\")"
   ]
  }
 ],
 "metadata": {
  "kernelspec": {
   "display_name": "DL",
   "language": "python",
   "name": "dl"
  },
  "language_info": {
   "codemirror_mode": {
    "name": "ipython",
    "version": 3
   },
   "file_extension": ".py",
   "mimetype": "text/x-python",
   "name": "python",
   "nbconvert_exporter": "python",
   "pygments_lexer": "ipython3",
   "version": "3.9.0"
  }
 },
 "nbformat": 4,
 "nbformat_minor": 4
}
