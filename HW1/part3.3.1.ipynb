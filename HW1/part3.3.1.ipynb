{
 "cells": [
  {
   "cell_type": "code",
   "execution_count": 1,
   "metadata": {},
   "outputs": [],
   "source": [
    "import math \n",
    "\n",
    "import numpy as np\n",
    "from numpy import asarray\n",
    "import torch\n",
    "import torch.nn as nn\n",
    "import torch.optim as optim\n",
    "import torch.utils.data\n",
    "from tqdm import tqdm\n",
    "\n",
    "from sklearn.model_selection import train_test_split\n",
    "from torch.autograd import Variable\n",
    "import torchvision\n",
    "import matplotlib\n",
    "import matplotlib.pyplot as plt\n",
    "import pickle\n",
    "from sklearn.preprocessing import MinMaxScaler\n",
    "from collections import defaultdict\n",
    "from autograd_lib import autograd_lib\n",
    "import torch.nn.functional as F     # Contains all the functions in the torch.nn library\n"
   ]
  },
  {
   "cell_type": "code",
   "execution_count": 2,
   "metadata": {},
   "outputs": [
    {
     "data": {
      "text/plain": [
       "device(type='cuda')"
      ]
     },
     "execution_count": 2,
     "metadata": {},
     "output_type": "execute_result"
    }
   ],
   "source": [
    "device = torch.device('cuda' if torch.cuda.is_available() else 'cpu')\n",
    "device"
   ]
  },
  {
   "cell_type": "code",
   "execution_count": 3,
   "metadata": {},
   "outputs": [],
   "source": [
    "def accuracy(preds, labels):\n",
    "    return (preds == labels).mean()"
   ]
  },
  {
   "cell_type": "code",
   "execution_count": 4,
   "metadata": {},
   "outputs": [],
   "source": [
    "def train(inputDataLoader,model,loss_function,optimizer,epochNumber):\n",
    "    \n",
    "    model.train()\n",
    "    acccs=[]\n",
    "    loss_array=[]\n",
    "    for (inputs,label) in inputDataLoader:\n",
    "        label=label.to(device)\n",
    "        inputs = inputs.reshape(-1, 28*28).to(device)\n",
    "        output=model.forward(inputs)\n",
    "        loss=loss_function(output,label)\n",
    "        optimizer.zero_grad()\n",
    "        loss.backward()\n",
    "        optimizer.step()\n",
    "        preds = np.argmax(output.detach().cpu().numpy(), axis=1)\n",
    "        labels = label.detach().cpu().numpy()\n",
    "        # measure accuracy and record loss\n",
    "        acc1 = accuracy(preds, labels)\n",
    "        acccs.append(acc1)\n",
    "    return np.mean(loss_array)"
   ]
  },
  {
   "cell_type": "code",
   "execution_count": 5,
   "metadata": {},
   "outputs": [],
   "source": [
    "def test(inputDataLoader,model,loss_function,optimizer):\n",
    "    model.eval()\n",
    "    output_result=[]\n",
    "    loss_result=[]\n",
    "    acccs=[]\n",
    "\n",
    "    with torch.no_grad():\n",
    "        for (inputs,label) in inputDataLoader:\n",
    "            inputs = inputs.reshape(-1, 28*28).to(device)\n",
    "            label=label.to(device)\n",
    "            output=model.forward(inputs)\n",
    "            loss=loss_function(output,label)\n",
    "            preds = np.argmax(output.detach().cpu().numpy(), axis=1)\n",
    "            labels = label.detach().cpu().numpy()\n",
    "            # measure accuracy and record loss\n",
    "            acc1 = accuracy(preds, labels)\n",
    "            acccs.append(acc1)\n"
   ]
  },
  {
   "cell_type": "code",
   "execution_count": 6,
   "metadata": {},
   "outputs": [],
   "source": [
    "class NeuralNet(torch.nn.Module):\n",
    "\n",
    "    def __init__(self):\n",
    "        super(NeuralNet, self).__init__()\n",
    "                 # 784 inputs, connects to hidden layer with 600 nodes\n",
    "        self.fc1 = nn.Linear(in_features=784, out_features=600)\n",
    "                   # 600 nodes connects to hidden layer with 500 nodes\n",
    "        self.fc2 = nn.Linear(in_features=600, out_features=500) \n",
    "                   # 500 nodes connects to hidden layer with 250 nodes\n",
    "        self.fc3 = nn.Linear(in_features=500, out_features=250) \n",
    "                   # connection between the last hidden layer \n",
    "                   # and the output layer (with 10 nodes)\n",
    "        self.fc4 = nn.Linear(in_features=250, out_features=10)  \n",
    "                                                                \n",
    "    def forward(self, x):\n",
    "        x = x.view(-1,784)          # Put all the entries of the image in the vector\n",
    "        x = F.relu(self.fc1(x))     # Input x into first layer and apply a ReLU\n",
    "        # to the nodes in this layer\n",
    "        x = F.relu(self.fc2(x))        \n",
    "        x = F.relu(self.fc3(x))\n",
    "        x = self.fc4(x)\n",
    "        return x "
   ]
  },
  {
   "cell_type": "code",
   "execution_count": 7,
   "metadata": {},
   "outputs": [],
   "source": [
    "def initMNIST(batch_size_train,batch_size_test):\n",
    "    train_loader = torch.utils.data.DataLoader(\n",
    "    torchvision.datasets.MNIST('./files/', train=True, download=True,\n",
    "                             transform=torchvision.transforms.Compose([\n",
    "                               torchvision.transforms.ToTensor(),\n",
    "                               torchvision.transforms.Normalize(\n",
    "                                 (0.1307,), (0.3081,))\n",
    "                             ])),\n",
    "    batch_size=batch_size_train, shuffle=True)\n",
    "\n",
    "    test_loader = torch.utils.data.DataLoader(\n",
    "    torchvision.datasets.MNIST('./files/', train=False, download=True,\n",
    "                             transform=torchvision.transforms.Compose([\n",
    "                               torchvision.transforms.ToTensor(),\n",
    "                               torchvision.transforms.Normalize(\n",
    "                                 (0.1307,), (0.3081,))\n",
    "                             ])),\n",
    "    batch_size=batch_size_test, shuffle=True)\n",
    "    return train_loader,test_loader"
   ]
  },
  {
   "cell_type": "code",
   "execution_count": 8,
   "metadata": {},
   "outputs": [
    {
     "name": "stdout",
     "output_type": "stream",
     "text": [
      "1\n"
     ]
    }
   ],
   "source": [
    "m1_train_loader,m1_test_loader=initMNIST(60000,10000)\n",
    "print(len(m1_train_loader))"
   ]
  },
  {
   "cell_type": "code",
   "execution_count": 9,
   "metadata": {},
   "outputs": [],
   "source": [
    "def linear_interpolation(alpha,theta_one,theta_two):\n",
    "    return alpha*theta_two+(1-alpha)*theta_one"
   ]
  },
  {
   "cell_type": "code",
   "execution_count": 10,
   "metadata": {},
   "outputs": [],
   "source": [
    "m1_train_loader,m1_test_loader=initMNIST(64,64)\n",
    "m2_train_loader,m2_test_loader=initMNIST(1024,1024)\n",
    "epochs=10\n",
    "m1=NeuralNet()\n",
    "m1.to(device)\n",
    "criterion=nn.CrossEntropyLoss()\n",
    "m1_optimizer=optim.Adam(m1.parameters(), lr = 1e-3)\n",
    "m2=NeuralNet()\n",
    "m2.to(device)\n",
    "m2_optimizer=optim.Adam(m2.parameters(), lr = 1e-3)"
   ]
  },
  {
   "cell_type": "code",
   "execution_count": 11,
   "metadata": {
    "tags": []
   },
   "outputs": [
    {
     "name": "stderr",
     "output_type": "stream",
     "text": [
      "/home/nkulshr/.conda/envs/DL/lib/python3.9/site-packages/numpy/core/fromnumeric.py:3474: RuntimeWarning: Mean of empty slice.\n",
      "  return _methods._mean(a, axis=axis, dtype=dtype,\n",
      "/home/nkulshr/.conda/envs/DL/lib/python3.9/site-packages/numpy/core/_methods.py:189: RuntimeWarning: invalid value encountered in double_scalars\n",
      "  ret = ret.dtype.type(ret / rcount)\n"
     ]
    }
   ],
   "source": [
    "for i in range(0,epochs,1):\n",
    "    train(m1_train_loader,m1,criterion,m1_optimizer,i)\n",
    "    test(m1_test_loader,m1,criterion,m1_optimizer)\n",
    "torch.save(m1.state_dict(),\"./model/m1\")"
   ]
  },
  {
   "cell_type": "code",
   "execution_count": 12,
   "metadata": {},
   "outputs": [],
   "source": [
    "for i in range(0,epochs,1):\n",
    "    train(m2_train_loader,m2,criterion,m2_optimizer,i)\n",
    "    test(m2_test_loader,m2,criterion,m2_optimizer)\n",
    "torch.save(m2.state_dict(),\"model/m2\")"
   ]
  },
  {
   "cell_type": "code",
   "execution_count": 13,
   "metadata": {},
   "outputs": [],
   "source": [
    "from torch.nn.utils import (\n",
    "  parameters_to_vector as Params2Vec,\n",
    "  vector_to_parameters as Vec2Params\n",
    ")\n",
    "m1_new = torch.load('./model/m1')\n",
    "m2_new = torch.load('./model/m2')\n",
    "theta_one=Params2Vec(m1.parameters())\n",
    "theta_two=Params2Vec(m2.parameters())\n"
   ]
  },
  {
   "cell_type": "code",
   "execution_count": 14,
   "metadata": {},
   "outputs": [],
   "source": [
    "losses_test=[]\n",
    "accuracy_test=[]\n",
    "losses_train=[]\n",
    "accuracy_train=[]\n",
    "\n",
    "inferred_model_train_loader,inferred_model_test_loader=initMNIST(60000,10000)\n",
    "for alpha in torch.arange(-2, 2, 0.1):\n",
    "    infer_net=NeuralNet()\n",
    "    Vec2Params(linear_interpolation(alpha,theta_one,theta_two),infer_net.parameters())\n",
    "    infer_net.to(device)\n",
    "    for data,label in inferred_model_train_loader:\n",
    "        data=data.to(device)\n",
    "        label=label.to(device)\n",
    "        prediction_train=infer_net(data)\n",
    "        loss_train=criterion(prediction_train,label).item()\n",
    "        preds_train = np.argmax(prediction_train.detach().cpu().numpy(), axis=1)\n",
    "        labels = label.detach().cpu().numpy()\n",
    "        acc1 = accuracy(preds_train, labels)\n",
    "        losses_train.append(loss_train)\n",
    "        accuracy_train.append(acc1)\n",
    "    for data,label in inferred_model_test_loader:\n",
    "        with torch.no_grad():\n",
    "            infer_net.eval()\n",
    "            data=data.to(device)\n",
    "            label=label.to(device)\n",
    "            prediction_test=infer_net(data)\n",
    "            loss_test=criterion(prediction_test,label).item()\n",
    "            preds_test = np.argmax(prediction_test.detach().cpu().numpy(), axis=1)\n",
    "            labels = label.detach().cpu().numpy()\n",
    "            acc1 = accuracy(preds_test, labels)\n",
    "            losses_test.append(loss_test)\n",
    "            accuracy_test.append(acc1)\n",
    "    \n",
    "        "
   ]
  },
  {
   "cell_type": "code",
   "execution_count": 15,
   "metadata": {},
   "outputs": [],
   "source": [
    "alpha=np.arange(-2.0, 2.0, 0.1)"
   ]
  },
  {
   "cell_type": "code",
   "execution_count": 16,
   "metadata": {},
   "outputs": [
    {
     "data": {
      "image/png": "[encoded data removed]",
      "text/plain": [
       "<Figure size 432x288 with 2 Axes>"
      ]
     },
     "metadata": {
      "needs_background": "light"
     },
     "output_type": "display_data"
    }
   ],
   "source": [
    "fig, ax1 = plt.subplots()\n",
    "fig.suptitle(\"Batch Size is changed\")\n",
    "color = 'tab:blue'\n",
    "ax1.set_xlabel('alpha')\n",
    "ax1.set_yscale('log')\n",
    "\n",
    "ax1.set_ylabel('loss', color=color)\n",
    "ax1.plot(alpha, losses_train, color=color,label=\"train\")\n",
    "ax1.plot(alpha, losses_test, '--', color=color,label=\"test\")\n",
    "\n",
    "ax1.tick_params(axis='y', labelcolor=color)\n",
    "\n",
    "ax2 = ax1.twinx()  # instantiate a second axes that shares the same x-axis\n",
    "\n",
    "color = 'tab:red'\n",
    "ax2.set_ylabel('acuracy', color=color)  # we already handled the x-label with ax1\n",
    "ax2.plot(alpha, accuracy_train, color=color)\n",
    "ax2.plot(alpha, accuracy_test, '--',color=color)\n",
    "ax2.tick_params(axis='y', labelcolor=color)\n",
    "\n",
    "fig.tight_layout()  # otherwise the right y-label is slightly clipped\n",
    "plt.show()\n",
    "fig.savefig(\"linear_1.png\")"
   ]
  },
  {
   "cell_type": "code",
   "execution_count": 24,
   "metadata": {},
   "outputs": [],
   "source": [
    "m1_train_loader,m1_test_loader=initMNIST(256,256)\n",
    "m2_train_loader,m2_test_loader=initMNIST(256,256)\n",
    "epochs=10\n",
    "m1=NeuralNet()\n",
    "m1.to(device)\n",
    "criterion=nn.CrossEntropyLoss()\n",
    "m1_optimizer=optim.Adam(m1.parameters(), lr = 1e-4)\n",
    "m2=NeuralNet()\n",
    "m2.to(device)\n",
    "m2_optimizer=optim.Adam(m2.parameters(), lr = 1e-2)"
   ]
  },
  {
   "cell_type": "code",
   "execution_count": 25,
   "metadata": {
    "tags": []
   },
   "outputs": [
    {
     "name": "stderr",
     "output_type": "stream",
     "text": [
      "/home/nkulshr/.conda/envs/DL/lib/python3.9/site-packages/numpy/core/fromnumeric.py:3474: RuntimeWarning: Mean of empty slice.\n",
      "  return _methods._mean(a, axis=axis, dtype=dtype,\n",
      "/home/nkulshr/.conda/envs/DL/lib/python3.9/site-packages/numpy/core/_methods.py:189: RuntimeWarning: invalid value encountered in double_scalars\n",
      "  ret = ret.dtype.type(ret / rcount)\n"
     ]
    }
   ],
   "source": [
    "for i in range(0,epochs,1):\n",
    "    train(m1_train_loader,m1,criterion,m1_optimizer,i)\n",
    "    test(m1_test_loader,m1,criterion,m1_optimizer)\n",
    "torch.save(m1.state_dict(),\"./model/m1.1\")"
   ]
  },
  {
   "cell_type": "code",
   "execution_count": 26,
   "metadata": {},
   "outputs": [],
   "source": [
    "for i in range(0,epochs,1):\n",
    "    train(m2_train_loader,m2,criterion,m2_optimizer,i)\n",
    "    test(m2_test_loader,m2,criterion,m2_optimizer)\n",
    "torch.save(m2.state_dict(),\"model/m2.2\")"
   ]
  },
  {
   "cell_type": "code",
   "execution_count": 27,
   "metadata": {},
   "outputs": [],
   "source": [
    "from torch.nn.utils import (\n",
    "  parameters_to_vector as Params2Vec,\n",
    "  vector_to_parameters as Vec2Params\n",
    ")\n",
    "m1_new = torch.load('./model/m1.1')\n",
    "m2_new = torch.load('./model/m2.2')\n",
    "theta_one=Params2Vec(m1.parameters())\n",
    "theta_two=Params2Vec(m2.parameters())\n"
   ]
  },
  {
   "cell_type": "code",
   "execution_count": 28,
   "metadata": {},
   "outputs": [],
   "source": [
    "losses_test=[]\n",
    "accuracy_test=[]\n",
    "losses_train=[]\n",
    "accuracy_train=[]\n",
    "\n",
    "inferred_model_train_loader,inferred_model_test_loader=initMNIST(60000,10000)\n",
    "for alpha in torch.arange(-2, 2, 0.1):\n",
    "    infer_net=NeuralNet()\n",
    "    Vec2Params(linear_interpolation(alpha,theta_one,theta_two),infer_net.parameters())\n",
    "    infer_net.to(device)\n",
    "    for data,label in inferred_model_train_loader:\n",
    "        data=data.to(device)\n",
    "        label=label.to(device)\n",
    "        prediction_train=infer_net(data)\n",
    "        loss_train=criterion(prediction_train,label).item()\n",
    "        preds_train = np.argmax(prediction_train.detach().cpu().numpy(), axis=1)\n",
    "        labels = label.detach().cpu().numpy()\n",
    "        acc1 = accuracy(preds_train, labels)\n",
    "        losses_train.append(loss_train)\n",
    "        accuracy_train.append(acc1)\n",
    "    for data,label in inferred_model_test_loader:\n",
    "        with torch.no_grad():\n",
    "            infer_net.eval()\n",
    "            data=data.to(device)\n",
    "            label=label.to(device)\n",
    "            prediction_test=infer_net(data)\n",
    "            loss_test=criterion(prediction_test,label).item()\n",
    "            preds_test = np.argmax(prediction_test.detach().cpu().numpy(), axis=1)\n",
    "            labels = label.detach().cpu().numpy()\n",
    "            acc1 = accuracy(preds_test, labels)\n",
    "            losses_test.append(loss_test)\n",
    "            accuracy_test.append(acc1)\n",
    "    \n",
    "        "
   ]
  },
  {
   "cell_type": "code",
   "execution_count": 29,
   "metadata": {},
   "outputs": [],
   "source": [
    "alpha=np.arange(-2.0, 2.0, 0.1)"
   ]
  },
  {
   "cell_type": "code",
   "execution_count": 30,
   "metadata": {},
   "outputs": [
    {
     "data": {
      "image/png": "[encoded data removed]",
      "text/plain": [
       "<Figure size 432x288 with 2 Axes>"
      ]
     },
     "metadata": {
      "needs_background": "light"
     },
     "output_type": "display_data"
    }
   ],
   "source": [
    "fig, ax1 = plt.subplots()\n",
    "fig.suptitle(\"Learning Rate is changed\")\n",
    "\n",
    "color = 'tab:blue'\n",
    "ax1.set_xlabel('alpha')\n",
    "ax1.set_yscale('log')\n",
    "\n",
    "ax1.set_ylabel('loss', color=color)\n",
    "ax1.plot(alpha, losses_train, color=color,label=\"train\")\n",
    "ax1.plot(alpha, losses_test, '--', color=color,label=\"test\")\n",
    "\n",
    "ax1.tick_params(axis='y', labelcolor=color)\n",
    "\n",
    "ax2 = ax1.twinx()  # instantiate a second axes that shares the same x-axis\n",
    "\n",
    "color = 'tab:red'\n",
    "ax2.set_ylabel('acuracy', color=color)  # we already handled the x-label with ax1\n",
    "ax2.plot(alpha, accuracy_train, color=color)\n",
    "ax2.plot(alpha, accuracy_test, '--',color=color)\n",
    "ax2.tick_params(axis='y', labelcolor=color)\n",
    "\n",
    "fig.tight_layout()  # otherwise the right y-label is slightly clipped\n",
    "plt.show()\n",
    "fig.savefig(\"linear_2.png\")"
   ]
  }
 ],
 "metadata": {
  "kernelspec": {
   "display_name": "DL",
   "language": "python",
   "name": "dl"
  },
  "language_info": {
   "codemirror_mode": {
    "name": "ipython",
    "version": 3
   },
   "file_extension": ".py",
   "mimetype": "text/x-python",
   "name": "python",
   "nbconvert_exporter": "python",
   "pygments_lexer": "ipython3",
   "version": "3.9.0"
  }
 },
 "nbformat": 4,
 "nbformat_minor": 4
}
