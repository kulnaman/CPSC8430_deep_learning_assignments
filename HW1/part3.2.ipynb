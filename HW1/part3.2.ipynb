{
 "cells": [
  {
   "cell_type": "code",
   "execution_count": 1,
   "metadata": {},
   "outputs": [],
   "source": [
    "import math \n",
    "\n",
    "import numpy as np\n",
    "from numpy import asarray\n",
    "import torch\n",
    "import torch.nn as nn\n",
    "import torch.optim as optim\n",
    "import torch.utils.data\n",
    "from tqdm import tqdm\n",
    "\n",
    "from sklearn.model_selection import train_test_split\n",
    "from torch.autograd import Variable\n",
    "import torchvision\n",
    "import matplotlib\n",
    "import matplotlib.pyplot as plt\n",
    "import pickle\n",
    "from sklearn.preprocessing import MinMaxScaler\n",
    "from collections import defaultdict\n",
    "from autograd_lib import autograd_lib\n",
    "import torch.nn.functional as F     # Contains all the functions in the torch.nn library\n"
   ]
  },
  {
   "cell_type": "code",
   "execution_count": 2,
   "metadata": {},
   "outputs": [
    {
     "data": {
      "text/plain": [
       "device(type='cuda')"
      ]
     },
     "execution_count": 2,
     "metadata": {},
     "output_type": "execute_result"
    }
   ],
   "source": [
    "device = torch.device('cuda' if torch.cuda.is_available() else 'cpu')\n",
    "device"
   ]
  },
  {
   "cell_type": "code",
   "execution_count": 3,
   "metadata": {},
   "outputs": [],
   "source": [
    "def accuracy(preds, labels):\n",
    "    return (preds == labels).mean()"
   ]
  },
  {
   "cell_type": "code",
   "execution_count": 4,
   "metadata": {},
   "outputs": [],
   "source": [
    "def count_parameters(model):\n",
    "    return sum(p.numel() for p in model.parameters() if p.requires_grad)"
   ]
  },
  {
   "cell_type": "code",
   "execution_count": 5,
   "metadata": {},
   "outputs": [],
   "source": [
    "def train(inputDataLoader,model,loss_function,optimizer):\n",
    "    \n",
    "    model.train()\n",
    "    acccs=[]\n",
    "    loss_array=[]\n",
    "    for (inputs,label) in inputDataLoader:\n",
    "        label=label.to(device)\n",
    "        inputs = inputs.reshape(-1, 28*28).to(device)\n",
    "        output=model.forward(inputs)\n",
    "        loss=loss_function(output,label)\n",
    "        optimizer.zero_grad()\n",
    "        loss.backward()\n",
    "        optimizer.step()\n",
    "        loss_array.append(loss.detach().cpu().numpy())\n",
    "        preds = np.argmax(output.detach().cpu().numpy(), axis=1)\n",
    "        labels = label.detach().cpu().numpy()\n",
    "        # measure accuracy and record loss\n",
    "        acc1 = accuracy(preds, labels)\n",
    "        acccs.append(acc1)\n",
    "    return np.mean(acccs),np.mean(loss_array)"
   ]
  },
  {
   "cell_type": "code",
   "execution_count": 6,
   "metadata": {},
   "outputs": [],
   "source": [
    "def test(inputDataLoader,model,loss_function,optimizer):\n",
    "    model.eval()\n",
    "    output_result=[]\n",
    "    loss_array=[]\n",
    "    acccs=[]\n",
    "    with torch.no_grad():\n",
    "        for (inputs,label) in inputDataLoader:\n",
    "            inputs = inputs.reshape(-1, 28*28).to(device)\n",
    "            label=label.to(device)\n",
    "            output=model.forward(inputs)\n",
    "            loss=loss_function(output,label)\n",
    "            loss_array.append(loss.detach().cpu().numpy())\n",
    "            preds = np.argmax(output.detach().cpu().numpy(), axis=1)\n",
    "            labels = label.detach().cpu().numpy()\n",
    "            # measure accuracy and record loss\n",
    "            acc1 = accuracy(preds, labels)\n",
    "            acccs.append(acc1)\n",
    "    return np.mean(acccs),np.mean(loss_array)"
   ]
  },
  {
   "cell_type": "code",
   "execution_count": 7,
   "metadata": {},
   "outputs": [],
   "source": [
    "class NeuralNet(torch.nn.Module):\n",
    "\n",
    "    def __init__(self,input_size,hidden_layer_size,output_size):\n",
    "        super(NeuralNet, self).__init__()\n",
    "        self.fc1 = nn.Linear(in_features=input_size, out_features=hidden_layer_size)\n",
    "        self.activ1=nn.ReLU()\n",
    "        self.fc2 = nn.Linear(in_features=hidden_layer_size, out_features=hidden_layer_size) \n",
    "        self.activ2=nn.ReLU()\n",
    "        self.fc3 = nn.Linear(in_features=hidden_layer_size, out_features=hidden_layer_size)    \n",
    "        self.activ3=nn.ReLU()\n",
    "        self.fc4 = nn.Linear(in_features=hidden_layer_size, out_features=output_size)  \n",
    "                                                                \n",
    "    def forward(self, x):\n",
    "        x = self.fc1(x)   \n",
    "        x = self.activ1(x)\n",
    "        x = self.fc2(x)        \n",
    "        x = self.activ2(x)\n",
    "        x = self.fc3(x)\n",
    "        x = self.activ3(x)\n",
    "        x = self.fc4(x)\n",
    "        return x "
   ]
  },
  {
   "cell_type": "code",
   "execution_count": 8,
   "metadata": {},
   "outputs": [],
   "source": [
    "def initMNIST(batch_size_train,batch_size_test):\n",
    "    train_loader = torch.utils.data.DataLoader(\n",
    "    torchvision.datasets.MNIST('./files/', train=True, download=True,\n",
    "                             transform=torchvision.transforms.Compose([\n",
    "                               torchvision.transforms.ToTensor(),\n",
    "                               torchvision.transforms.Normalize(\n",
    "                                 (0.1307,), (0.3081,))\n",
    "                             ])),\n",
    "    batch_size=batch_size_train, shuffle=True)\n",
    "\n",
    "    test_loader = torch.utils.data.DataLoader(\n",
    "    torchvision.datasets.MNIST('./files/', train=False, download=True,\n",
    "                             transform=torchvision.transforms.Compose([\n",
    "                               torchvision.transforms.ToTensor(),\n",
    "                               torchvision.transforms.Normalize(\n",
    "                                 (0.1307,), (0.3081,))\n",
    "                             ])),\n",
    "    batch_size=batch_size_test, shuffle=True)\n",
    "    return train_loader,test_loader"
   ]
  },
  {
   "cell_type": "code",
   "execution_count": 9,
   "metadata": {},
   "outputs": [
    {
     "name": "stderr",
     "output_type": "stream",
     "text": [
      "100%|██████████| 10/10 [01:20<00:00,  8.09s/it]\n",
      "100%|██████████| 10/10 [01:20<00:00,  8.06s/it]\n",
      "100%|██████████| 10/10 [01:20<00:00,  8.09s/it]\n",
      "100%|██████████| 10/10 [01:38<00:00,  9.85s/it]\n",
      "100%|██████████| 10/10 [01:28<00:00,  8.82s/it]\n",
      "100%|██████████| 10/10 [01:21<00:00,  8.13s/it]\n",
      "100%|██████████| 10/10 [01:20<00:00,  8.06s/it]\n",
      "100%|██████████| 10/10 [01:20<00:00,  8.09s/it]\n",
      "100%|██████████| 10/10 [01:20<00:00,  8.07s/it]\n",
      "100%|██████████| 10/10 [01:21<00:00,  8.14s/it]\n"
     ]
    }
   ],
   "source": [
    "training_acc_data=[]\n",
    "testing_acc_data=[]\n",
    "training_loss_data=[]\n",
    "testing_loss_data=[]\n",
    "hidden_layer_list=[450,500,550,600,640,700,800,900,1000,1280]\n",
    "epochs=10\n",
    "parameter_list=[]\n",
    "train_loader,test_loader=initMNIST(256,256)\n",
    "for parameter in hidden_layer_list:\n",
    "    training_acc=[]\n",
    "    testing_acc=[]\n",
    "    training_loss=[]\n",
    "    testing_loss=[]\n",
    "    model=NeuralNet(784,parameter,10)\n",
    "    model.to(device)\n",
    "    optimizer=optim.Adam(model.parameters(),lr=1e-3)\n",
    "    loss_func=nn.CrossEntropyLoss()\n",
    "    for epoch in tqdm(range(0,epochs,1)):\n",
    "        train_acc,train_loss=train(train_loader,model,loss_func,optimizer)\n",
    "        test_acc,test_loss=test(test_loader,model,loss_func,optimizer)\n",
    "        training_acc.append(train_acc)\n",
    "        testing_acc.append(test_acc)\n",
    "        training_loss.append(train_loss)\n",
    "        testing_loss.append(test_loss)\n",
    "    \n",
    "    number_of_parameters= parameter_list.append(count_parameters(model))\n",
    "    testing_acc_data.append(np.mean(testing_acc))\n",
    "    training_acc_data.append(np.mean(training_acc))\n",
    "    training_loss_data.append(np.mean(training_loss))\n",
    "    testing_loss_data.append(np.mean(testing_loss))\n"
   ]
  },
  {
   "cell_type": "code",
   "execution_count": 10,
   "metadata": {},
   "outputs": [
    {
     "data": {
      "image/png": "[encoded data removed]",
      "text/plain": [
       "<Figure size 432x288 with 1 Axes>"
      ]
     },
     "metadata": {
      "needs_background": "light"
     },
     "output_type": "display_data"
    }
   ],
   "source": [
    "plt.xlabel('Number of Parameters')\n",
    "plt.ylabel('Accuracy')\n",
    "plt.plot(parameter_list,training_acc_data,label=\"train\")\n",
    "plt.plot(parameter_list,testing_acc_data,label=\"test\")\n",
    "plt.legend()\n",
    "plt.savefig(\"3.2_acc.png\")\n",
    "\n"
   ]
  },
  {
   "cell_type": "code",
   "execution_count": 11,
   "metadata": {},
   "outputs": [
    {
     "data": {
      "image/png": "[encoded data removed]",
      "text/plain": [
       "<Figure size 432x288 with 1 Axes>"
      ]
     },
     "metadata": {
      "needs_background": "light"
     },
     "output_type": "display_data"
    }
   ],
   "source": [
    "plt.xlabel('Number of Parameters')\n",
    "plt.ylabel('Loss')\n",
    "plt.plot(parameter_list,training_loss_data,label=\"train\")\n",
    "plt.plot(parameter_list,testing_loss_data,label=\"test\")\n",
    "plt.legend()\n",
    "plt.savefig(\"3.2_loss.png\")\n",
    "\n"
   ]
  },
  {
   "cell_type": "code",
   "execution_count": 12,
   "metadata": {},
   "outputs": [],
   "source": [
    "\n",
    "# x, y = zip(*training_acc_data)\n",
    "# y = np.array(y)\n",
    "# x1,y1=zip(*testing_acc_data)\n",
    "# y1=np.array(y1)\n",
    "# plt.xlabel('Number of Parameters')\n",
    "# plt.ylabel('Accuracy')\n",
    "# plt.scatter(np.repeat(x, y.shape[1]), np.mean(y.flat),label=\"Training\")\n",
    "# plt.scatter(np.repeat(x1, y1.shape[1]), np.mean(y1.flat),label=\"Testing\")\n",
    "# plt.legend()\n",
    "# plt.savefig(\"3.2_acc.png\")"
   ]
  },
  {
   "cell_type": "code",
   "execution_count": 13,
   "metadata": {},
   "outputs": [],
   "source": [
    "\n",
    "# x, y = zip(*training_loss_data)\n",
    "# # y = np.array(y)\n",
    "# x1,y1=zip(*testing_loss_data)\n",
    "# y1=np.array(y1)\n",
    "# plt.xlabel('Number of Parameters')\n",
    "# plt.ylabel('Loss')\n",
    "# plt.scatter(np.repeat(x, y.shape[1]), y.flat,label=\"Training\")\n",
    "# plt.scatter(np.repeat(x1, y1.shape[1]), y1.flat,label=\"Testing\")\n",
    "# plt.legend()\n",
    "# plt.savefig(\"3.2_loss.png\")"
   ]
  }
 ],
 "metadata": {
  "kernelspec": {
   "display_name": "DL",
   "language": "python",
   "name": "dl"
  },
  "language_info": {
   "codemirror_mode": {
    "name": "ipython",
    "version": 3
   },
   "file_extension": ".py",
   "mimetype": "text/x-python",
   "name": "python",
   "nbconvert_exporter": "python",
   "pygments_lexer": "ipython3",
   "version": "3.9.0"
  }
 },
 "nbformat": 4,
 "nbformat_minor": 4
}
