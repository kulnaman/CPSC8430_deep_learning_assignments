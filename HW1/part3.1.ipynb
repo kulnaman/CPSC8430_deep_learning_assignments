{
 "cells": [
  {
   "cell_type": "code",
   "execution_count": 1,
   "metadata": {},
   "outputs": [],
   "source": [
    "import math \n",
    "\n",
    "import numpy as np\n",
    "from numpy import asarray\n",
    "import torch\n",
    "import torch.nn as nn\n",
    "import torch.optim as optim\n",
    "import torch.utils.data\n",
    "from tqdm import tqdm\n",
    "import random\n",
    "\n",
    "from sklearn.model_selection import train_test_split\n",
    "from torch.autograd import Variable\n",
    "import torchvision\n",
    "import matplotlib\n",
    "import matplotlib.pyplot as plt\n",
    "import pickle\n",
    "from sklearn.preprocessing import MinMaxScaler\n",
    "from collections import defaultdict\n",
    "from autograd_lib import autograd_lib\n",
    "import torch.nn.functional as F     # Contains all the functions in the torch.nn library\n"
   ]
  },
  {
   "cell_type": "code",
   "execution_count": 2,
   "metadata": {},
   "outputs": [
    {
     "data": {
      "text/plain": [
       "device(type='cuda')"
      ]
     },
     "execution_count": 2,
     "metadata": {},
     "output_type": "execute_result"
    }
   ],
   "source": [
    "device = torch.device('cuda' if torch.cuda.is_available() else 'cpu')\n",
    "device"
   ]
  },
  {
   "cell_type": "code",
   "execution_count": 3,
   "metadata": {},
   "outputs": [],
   "source": [
    "def accuracy(preds, labels):\n",
    "    return (preds == labels).mean()"
   ]
  },
  {
   "cell_type": "code",
   "execution_count": 4,
   "metadata": {},
   "outputs": [],
   "source": [
    "def count_parameters(model):\n",
    "    return sum(p.numel() for p in model.parameters() if p.requires_grad)"
   ]
  },
  {
   "cell_type": "code",
   "execution_count": 5,
   "metadata": {},
   "outputs": [],
   "source": [
    "def train(inputDataLoader,model,loss_function,optimizer):\n",
    "    \n",
    "    model.train()\n",
    "    acccs=[]\n",
    "    loss_array=[]\n",
    "    for (inputs,label) in inputDataLoader:\n",
    "        label=label.to(device)\n",
    "        inputs = inputs.reshape(-1, 28*28).to(device)\n",
    "        output=model.forward(inputs)\n",
    "        loss=loss_function(output,label)\n",
    "        optimizer.zero_grad()\n",
    "        loss.backward()\n",
    "        optimizer.step()\n",
    "        loss_array.append(loss.detach().cpu().numpy())\n",
    "        preds = np.argmax(output.detach().cpu().numpy(), axis=1)\n",
    "        labels = label.detach().cpu().numpy()\n",
    "        # measure accuracy and record loss\n",
    "        acc1 = accuracy(preds, labels)\n",
    "        acccs.append(acc1)\n",
    "    return np.mean(acccs),np.mean(loss_array)"
   ]
  },
  {
   "cell_type": "code",
   "execution_count": 6,
   "metadata": {},
   "outputs": [],
   "source": [
    "def test(inputDataLoader,model,loss_function,optimizer):\n",
    "    model.eval()\n",
    "    output_result=[]\n",
    "    loss_array=[]\n",
    "    acccs=[]\n",
    "    with torch.no_grad():\n",
    "        for (inputs,label) in inputDataLoader:\n",
    "            inputs = inputs.reshape(-1, 28*28).to(device)\n",
    "            label=label.to(device)\n",
    "            output=model.forward(inputs)\n",
    "            loss=loss_function(output,label)\n",
    "            loss_array.append(loss.detach().cpu().numpy())\n",
    "            preds = np.argmax(output.detach().cpu().numpy(), axis=1)\n",
    "            labels = label.detach().cpu().numpy()\n",
    "            # measure accuracy and record loss\n",
    "            acc1 = accuracy(preds, labels)\n",
    "            acccs.append(acc1)\n",
    "    return np.mean(acccs),np.mean(loss_array)"
   ]
  },
  {
   "cell_type": "code",
   "execution_count": 7,
   "metadata": {},
   "outputs": [],
   "source": [
    "class NeuralNet(torch.nn.Module):\n",
    "\n",
    "    def __init__(self):\n",
    "        super(NeuralNet, self).__init__()\n",
    "        self.fc1 = nn.Linear(in_features=784, out_features=300)\n",
    "        self.activ1=nn.ReLU()\n",
    "        self.fc2 = nn.Linear(in_features=300, out_features=200)     \n",
    "        self.activ2=nn.ReLU()\n",
    "        self.fc3 = nn.Linear(in_features=200, out_features=10)  \n",
    "                                                                \n",
    "    def forward(self, x):\n",
    "        x = self.fc1(x)   \n",
    "        x = self.activ1(x)\n",
    "        x = self.fc2(x)        \n",
    "        x = self.activ2(x)\n",
    "        x = self.fc3(x)\n",
    "        return x "
   ]
  },
  {
   "cell_type": "code",
   "execution_count": 8,
   "metadata": {},
   "outputs": [],
   "source": [
    "def initMNIST(batch_size_train,batch_size_test):\n",
    "    train_dataset= torchvision.datasets.MNIST('./files/', train=True, download=True,\n",
    "                             transform=torchvision.transforms.Compose([torchvision.transforms.ToTensor(),\n",
    "                               torchvision.transforms.Normalize(\n",
    "                                 (0.1307,), (0.3081,))\n",
    "                             ]),\n",
    "                            target_transform=lambda y: torch.randint(0, 10, (1,)).item()\n",
    "                                             )\n",
    "\n",
    "    train_loader = torch.utils.data.DataLoader(\n",
    "    train_dataset,\n",
    "    batch_size=batch_size_train, shuffle=True)\n",
    "    test_dataset=torchvision.datasets.MNIST('./files/', train=False, download=True,\n",
    "                             transform=torchvision.transforms.Compose([\n",
    "                               torchvision.transforms.ToTensor(),\n",
    "                               torchvision.transforms.Normalize(\n",
    "                                 (0.1307,), (0.3081,))\n",
    "                             ]))\n",
    "    test_loader = torch.utils.data.DataLoader(\n",
    "    test_dataset,\n",
    "    batch_size=batch_size_test, shuffle=True)\n",
    "    return train_loader,test_loader"
   ]
  },
  {
   "cell_type": "code",
   "execution_count": 9,
   "metadata": {},
   "outputs": [
    {
     "name": "stderr",
     "output_type": "stream",
     "text": [
      "100%|██████████| 100/100 [15:10<00:00,  9.10s/it]\n"
     ]
    }
   ],
   "source": [
    "model=NeuralNet()\n",
    "model.to(device)\n",
    "optimizer=optim.Adam(model.parameters(),lr=1e-3)\n",
    "loss_func=nn.CrossEntropyLoss()\n",
    "epochs=100\n",
    "training_loss=[]\n",
    "testing_loss=[]\n",
    "train_loader,test_loader=initMNIST(128,128)\n",
    "for epoch in tqdm(range(0,epochs,1)):\n",
    "    train_acc,train_loss=train(train_loader,model,loss_func,optimizer)\n",
    "    test_acc,test_loss=test(test_loader,model,loss_func,optimizer)\n",
    "    training_loss.append(train_loss)\n",
    "    testing_loss.append(test_loss)\n",
    "\n"
   ]
  },
  {
   "cell_type": "code",
   "execution_count": 14,
   "metadata": {},
   "outputs": [
    {
     "name": "stdout",
     "output_type": "stream",
     "text": [
      "<torch.utils.data.dataloader.DataLoader object at 0x150e31215f10>\n",
      "tensor(7)\n"
     ]
    },
    {
     "data": {
      "text/plain": [
       "<matplotlib.image.AxesImage at 0x150e30eacac0>"
      ]
     },
     "execution_count": 14,
     "metadata": {},
     "output_type": "execute_result"
    },
    {
     "data": {
      "image/png": "[encoded data removed]",
      "text/plain": [
       "<Figure size 432x288 with 1 Axes>"
      ]
     },
     "metadata": {
      "needs_background": "light"
     },
     "output_type": "display_data"
    }
   ],
   "source": [
    "train_loader,test_loader=initMNIST(256,256)\n",
    "print(train_loader)\n",
    "images,label=next(iter(train_loader))\n",
    "\n",
    "print(label[0])\n",
    "plt.imshow(images[0].reshape(28,28), cmap=\"gray\")"
   ]
  },
  {
   "cell_type": "code",
   "execution_count": 11,
   "metadata": {},
   "outputs": [
    {
     "data": {
      "text/plain": [
       "100"
      ]
     },
     "execution_count": 11,
     "metadata": {},
     "output_type": "execute_result"
    }
   ],
   "source": [
    "len(testing_loss)"
   ]
  },
  {
   "cell_type": "code",
   "execution_count": 13,
   "metadata": {},
   "outputs": [
    {
     "data": {
      "image/png": "[encoded data removed]",
      "text/plain": [
       "<Figure size 432x288 with 1 Axes>"
      ]
     },
     "metadata": {
      "needs_background": "light"
     },
     "output_type": "display_data"
    }
   ],
   "source": [
    "\n",
    "# x, y = zip(*training_acc_data)\n",
    "# y = np.array(y)\n",
    "epoch=list(range(0,len(training_loss),1))\n",
    "plt.xlabel(\"epochs\")\n",
    "plt.ylabel(\"loss\")\n",
    "plt.plot(epoch,testing_loss,label=\"Testing Loss\")\n",
    "plt.plot(epoch,training_loss,label=\"Training Loss\")\n",
    "plt.legend()\n",
    "# plt.scatter(np.repeat(x, y.shape[1]), y.flat)\n",
    "plt.savefig(\"3.1.png\")"
   ]
  }
 ],
 "metadata": {
  "kernelspec": {
   "display_name": "DL",
   "language": "python",
   "name": "dl"
  },
  "language_info": {
   "codemirror_mode": {
    "name": "ipython",
    "version": 3
   },
   "file_extension": ".py",
   "mimetype": "text/x-python",
   "name": "python",
   "nbconvert_exporter": "python",
   "pygments_lexer": "ipython3",
   "version": "3.9.0"
  }
 },
 "nbformat": 4,
 "nbformat_minor": 4
}
